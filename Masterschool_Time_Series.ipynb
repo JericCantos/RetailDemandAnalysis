{
  "cells": [
    {
      "cell_type": "markdown",
      "metadata": {
        "id": "view-in-github",
        "colab_type": "text"
      },
      "source": [
        "<a href=\"https://colab.research.google.com/github/JericCantos/retail_demand_analysis/blob/main/Masterschool_Time_Series.ipynb\" target=\"_parent\"><img src=\"https://colab.research.google.com/assets/colab-badge.svg\" alt=\"Open In Colab\"/></a>"
      ]
    },
    {
      "cell_type": "markdown",
      "metadata": {
        "id": "sqG17RskclZd"
      },
      "source": [
        "# Loading Data Part 1"
      ]
    },
    {
      "cell_type": "code",
      "execution_count": null,
      "metadata": {
        "id": "elgCkVeHqYv5"
      },
      "outputs": [],
      "source": [
        "import pandas as pd\n",
        "import requests\n",
        "import io\n",
        "import numpy as np\n",
        "import matplotlib.pyplot as plt\n"
      ]
    },
    {
      "cell_type": "code",
      "execution_count": null,
      "metadata": {
        "id": "nwQR_31pb_y3"
      },
      "outputs": [],
      "source": [
        "# Build the direct download URL from a file ID\n",
        "def make_drive_url(file_id):\n",
        "    return f\"https://drive.google.com/uc?id={file_id}\"\n",
        "\n",
        "# Helper function to load a CSV from a direct URL\n",
        "def load_csv_from_url(url):\n",
        "    response = requests.get(url)\n",
        "    response.raise_for_status()  # Raises an error if the request fails\n",
        "    return pd.read_csv(io.StringIO(response.text))\n",
        "\n",
        "# Dictionary of file IDs for clarity\n",
        "file_ids = {\n",
        "    \"holiday_events\": \"1RMjSuqHXHTwAw_PGD5XVjhA3agaAGHDH\",\n",
        "    \"items\": \"1ogMRixVhNY6XOJtIRtkRllyOyzw1nqya\",\n",
        "    \"oil\": \"1Q59vk2v4WQ-Rpc9t2nqHcsZM3QWGFje_\",\n",
        "    \"stores\": \"1Ei0MUXmNhmOcmrlPad8oklnFEDM95cDi\",\n",
        "    \"train\": \"1oEX8NEJPY7wPmSJ0n7lO1JUFYyZjFBRv\",\n",
        "    \"transactions\": \"1PW5LnAEAiL43fI5CRDn_h6pgDG5rtBW_\"\n",
        "}\n",
        "\n",
        "# Load each CSV using the helper functions\n",
        "df_holiday_events = load_csv_from_url(make_drive_url(file_ids[\"holiday_events\"]))\n",
        "df_items          = load_csv_from_url(make_drive_url(file_ids[\"items\"]))\n",
        "df_oil            = load_csv_from_url(make_drive_url(file_ids[\"oil\"]))\n",
        "df_stores         = load_csv_from_url(make_drive_url(file_ids[\"stores\"]))\n",
        "# df_train          = load_csv_from_url(make_drive_url(file_ids[\"train\"])) we dont read it as the file is too big and wont work this way\n",
        "df_transactions   = load_csv_from_url(make_drive_url(file_ids[\"transactions\"]))\n"
      ]
    },
    {
      "cell_type": "code",
      "execution_count": null,
      "metadata": {
        "colab": {
          "base_uri": "https://localhost:8080/",
          "height": 206
        },
        "id": "0P3GDaVOdW52",
        "outputId": "872c1ce8-e37d-4899-d902-f9ce6cf3e3c9"
      },
      "outputs": [
        {
          "data": {
            "application/vnd.google.colaboratory.intrinsic+json": {
              "summary": "{\n  \"name\": \"df_items\",\n  \"rows\": 4100,\n  \"fields\": [\n    {\n      \"column\": \"item_nbr\",\n      \"properties\": {\n        \"dtype\": \"number\",\n        \"std\": 587687,\n        \"min\": 96995,\n        \"max\": 2134244,\n        \"num_unique_values\": 4100,\n        \"samples\": [\n          1507720,\n          723184,\n          1463998\n        ],\n        \"semantic_type\": \"\",\n        \"description\": \"\"\n      }\n    },\n    {\n      \"column\": \"family\",\n      \"properties\": {\n        \"dtype\": \"category\",\n        \"num_unique_values\": 33,\n        \"samples\": [\n          \"LADIESWEAR\",\n          \"SEAFOOD\",\n          \"PET SUPPLIES\"\n        ],\n        \"semantic_type\": \"\",\n        \"description\": \"\"\n      }\n    },\n    {\n      \"column\": \"class\",\n      \"properties\": {\n        \"dtype\": \"number\",\n        \"std\": 1484,\n        \"min\": 1002,\n        \"max\": 7780,\n        \"num_unique_values\": 337,\n        \"samples\": [\n          3032,\n          2372,\n          1006\n        ],\n        \"semantic_type\": \"\",\n        \"description\": \"\"\n      }\n    },\n    {\n      \"column\": \"perishable\",\n      \"properties\": {\n        \"dtype\": \"number\",\n        \"std\": 0,\n        \"min\": 0,\n        \"max\": 1,\n        \"num_unique_values\": 2,\n        \"samples\": [\n          1,\n          0\n        ],\n        \"semantic_type\": \"\",\n        \"description\": \"\"\n      }\n    }\n  ]\n}",
              "type": "dataframe",
              "variable_name": "df_items"
            },
            "text/html": [
              "\n",
              "  <div id=\"df-8de95740-5bc2-421f-a2f8-3c0e3a44712d\" class=\"colab-df-container\">\n",
              "    <div>\n",
              "<style scoped>\n",
              "    .dataframe tbody tr th:only-of-type {\n",
              "        vertical-align: middle;\n",
              "    }\n",
              "\n",
              "    .dataframe tbody tr th {\n",
              "        vertical-align: top;\n",
              "    }\n",
              "\n",
              "    .dataframe thead th {\n",
              "        text-align: right;\n",
              "    }\n",
              "</style>\n",
              "<table border=\"1\" class=\"dataframe\">\n",
              "  <thead>\n",
              "    <tr style=\"text-align: right;\">\n",
              "      <th></th>\n",
              "      <th>item_nbr</th>\n",
              "      <th>family</th>\n",
              "      <th>class</th>\n",
              "      <th>perishable</th>\n",
              "    </tr>\n",
              "  </thead>\n",
              "  <tbody>\n",
              "    <tr>\n",
              "      <th>0</th>\n",
              "      <td>96995</td>\n",
              "      <td>GROCERY I</td>\n",
              "      <td>1093</td>\n",
              "      <td>0</td>\n",
              "    </tr>\n",
              "    <tr>\n",
              "      <th>1</th>\n",
              "      <td>99197</td>\n",
              "      <td>GROCERY I</td>\n",
              "      <td>1067</td>\n",
              "      <td>0</td>\n",
              "    </tr>\n",
              "    <tr>\n",
              "      <th>2</th>\n",
              "      <td>103501</td>\n",
              "      <td>CLEANING</td>\n",
              "      <td>3008</td>\n",
              "      <td>0</td>\n",
              "    </tr>\n",
              "    <tr>\n",
              "      <th>3</th>\n",
              "      <td>103520</td>\n",
              "      <td>GROCERY I</td>\n",
              "      <td>1028</td>\n",
              "      <td>0</td>\n",
              "    </tr>\n",
              "    <tr>\n",
              "      <th>4</th>\n",
              "      <td>103665</td>\n",
              "      <td>BREAD/BAKERY</td>\n",
              "      <td>2712</td>\n",
              "      <td>1</td>\n",
              "    </tr>\n",
              "  </tbody>\n",
              "</table>\n",
              "</div>\n",
              "    <div class=\"colab-df-buttons\">\n",
              "\n",
              "  <div class=\"colab-df-container\">\n",
              "    <button class=\"colab-df-convert\" onclick=\"convertToInteractive('df-8de95740-5bc2-421f-a2f8-3c0e3a44712d')\"\n",
              "            title=\"Convert this dataframe to an interactive table.\"\n",
              "            style=\"display:none;\">\n",
              "\n",
              "  <svg xmlns=\"http://www.w3.org/2000/svg\" height=\"24px\" viewBox=\"0 -960 960 960\">\n",
              "    <path d=\"M120-120v-720h720v720H120Zm60-500h600v-160H180v160Zm220 220h160v-160H400v160Zm0 220h160v-160H400v160ZM180-400h160v-160H180v160Zm440 0h160v-160H620v160ZM180-180h160v-160H180v160Zm440 0h160v-160H620v160Z\"/>\n",
              "  </svg>\n",
              "    </button>\n",
              "\n",
              "  <style>\n",
              "    .colab-df-container {\n",
              "      display:flex;\n",
              "      gap: 12px;\n",
              "    }\n",
              "\n",
              "    .colab-df-convert {\n",
              "      background-color: #E8F0FE;\n",
              "      border: none;\n",
              "      border-radius: 50%;\n",
              "      cursor: pointer;\n",
              "      display: none;\n",
              "      fill: #1967D2;\n",
              "      height: 32px;\n",
              "      padding: 0 0 0 0;\n",
              "      width: 32px;\n",
              "    }\n",
              "\n",
              "    .colab-df-convert:hover {\n",
              "      background-color: #E2EBFA;\n",
              "      box-shadow: 0px 1px 2px rgba(60, 64, 67, 0.3), 0px 1px 3px 1px rgba(60, 64, 67, 0.15);\n",
              "      fill: #174EA6;\n",
              "    }\n",
              "\n",
              "    .colab-df-buttons div {\n",
              "      margin-bottom: 4px;\n",
              "    }\n",
              "\n",
              "    [theme=dark] .colab-df-convert {\n",
              "      background-color: #3B4455;\n",
              "      fill: #D2E3FC;\n",
              "    }\n",
              "\n",
              "    [theme=dark] .colab-df-convert:hover {\n",
              "      background-color: #434B5C;\n",
              "      box-shadow: 0px 1px 3px 1px rgba(0, 0, 0, 0.15);\n",
              "      filter: drop-shadow(0px 1px 2px rgba(0, 0, 0, 0.3));\n",
              "      fill: #FFFFFF;\n",
              "    }\n",
              "  </style>\n",
              "\n",
              "    <script>\n",
              "      const buttonEl =\n",
              "        document.querySelector('#df-8de95740-5bc2-421f-a2f8-3c0e3a44712d button.colab-df-convert');\n",
              "      buttonEl.style.display =\n",
              "        google.colab.kernel.accessAllowed ? 'block' : 'none';\n",
              "\n",
              "      async function convertToInteractive(key) {\n",
              "        const element = document.querySelector('#df-8de95740-5bc2-421f-a2f8-3c0e3a44712d');\n",
              "        const dataTable =\n",
              "          await google.colab.kernel.invokeFunction('convertToInteractive',\n",
              "                                                    [key], {});\n",
              "        if (!dataTable) return;\n",
              "\n",
              "        const docLinkHtml = 'Like what you see? Visit the ' +\n",
              "          '<a target=\"_blank\" href=https://colab.research.google.com/notebooks/data_table.ipynb>data table notebook</a>'\n",
              "          + ' to learn more about interactive tables.';\n",
              "        element.innerHTML = '';\n",
              "        dataTable['output_type'] = 'display_data';\n",
              "        await google.colab.output.renderOutput(dataTable, element);\n",
              "        const docLink = document.createElement('div');\n",
              "        docLink.innerHTML = docLinkHtml;\n",
              "        element.appendChild(docLink);\n",
              "      }\n",
              "    </script>\n",
              "  </div>\n",
              "\n",
              "\n",
              "    <div id=\"df-eccc4bb1-9e71-418c-9c16-854588d9dcd0\">\n",
              "      <button class=\"colab-df-quickchart\" onclick=\"quickchart('df-eccc4bb1-9e71-418c-9c16-854588d9dcd0')\"\n",
              "                title=\"Suggest charts\"\n",
              "                style=\"display:none;\">\n",
              "\n",
              "<svg xmlns=\"http://www.w3.org/2000/svg\" height=\"24px\"viewBox=\"0 0 24 24\"\n",
              "     width=\"24px\">\n",
              "    <g>\n",
              "        <path d=\"M19 3H5c-1.1 0-2 .9-2 2v14c0 1.1.9 2 2 2h14c1.1 0 2-.9 2-2V5c0-1.1-.9-2-2-2zM9 17H7v-7h2v7zm4 0h-2V7h2v10zm4 0h-2v-4h2v4z\"/>\n",
              "    </g>\n",
              "</svg>\n",
              "      </button>\n",
              "\n",
              "<style>\n",
              "  .colab-df-quickchart {\n",
              "      --bg-color: #E8F0FE;\n",
              "      --fill-color: #1967D2;\n",
              "      --hover-bg-color: #E2EBFA;\n",
              "      --hover-fill-color: #174EA6;\n",
              "      --disabled-fill-color: #AAA;\n",
              "      --disabled-bg-color: #DDD;\n",
              "  }\n",
              "\n",
              "  [theme=dark] .colab-df-quickchart {\n",
              "      --bg-color: #3B4455;\n",
              "      --fill-color: #D2E3FC;\n",
              "      --hover-bg-color: #434B5C;\n",
              "      --hover-fill-color: #FFFFFF;\n",
              "      --disabled-bg-color: #3B4455;\n",
              "      --disabled-fill-color: #666;\n",
              "  }\n",
              "\n",
              "  .colab-df-quickchart {\n",
              "    background-color: var(--bg-color);\n",
              "    border: none;\n",
              "    border-radius: 50%;\n",
              "    cursor: pointer;\n",
              "    display: none;\n",
              "    fill: var(--fill-color);\n",
              "    height: 32px;\n",
              "    padding: 0;\n",
              "    width: 32px;\n",
              "  }\n",
              "\n",
              "  .colab-df-quickchart:hover {\n",
              "    background-color: var(--hover-bg-color);\n",
              "    box-shadow: 0 1px 2px rgba(60, 64, 67, 0.3), 0 1px 3px 1px rgba(60, 64, 67, 0.15);\n",
              "    fill: var(--button-hover-fill-color);\n",
              "  }\n",
              "\n",
              "  .colab-df-quickchart-complete:disabled,\n",
              "  .colab-df-quickchart-complete:disabled:hover {\n",
              "    background-color: var(--disabled-bg-color);\n",
              "    fill: var(--disabled-fill-color);\n",
              "    box-shadow: none;\n",
              "  }\n",
              "\n",
              "  .colab-df-spinner {\n",
              "    border: 2px solid var(--fill-color);\n",
              "    border-color: transparent;\n",
              "    border-bottom-color: var(--fill-color);\n",
              "    animation:\n",
              "      spin 1s steps(1) infinite;\n",
              "  }\n",
              "\n",
              "  @keyframes spin {\n",
              "    0% {\n",
              "      border-color: transparent;\n",
              "      border-bottom-color: var(--fill-color);\n",
              "      border-left-color: var(--fill-color);\n",
              "    }\n",
              "    20% {\n",
              "      border-color: transparent;\n",
              "      border-left-color: var(--fill-color);\n",
              "      border-top-color: var(--fill-color);\n",
              "    }\n",
              "    30% {\n",
              "      border-color: transparent;\n",
              "      border-left-color: var(--fill-color);\n",
              "      border-top-color: var(--fill-color);\n",
              "      border-right-color: var(--fill-color);\n",
              "    }\n",
              "    40% {\n",
              "      border-color: transparent;\n",
              "      border-right-color: var(--fill-color);\n",
              "      border-top-color: var(--fill-color);\n",
              "    }\n",
              "    60% {\n",
              "      border-color: transparent;\n",
              "      border-right-color: var(--fill-color);\n",
              "    }\n",
              "    80% {\n",
              "      border-color: transparent;\n",
              "      border-right-color: var(--fill-color);\n",
              "      border-bottom-color: var(--fill-color);\n",
              "    }\n",
              "    90% {\n",
              "      border-color: transparent;\n",
              "      border-bottom-color: var(--fill-color);\n",
              "    }\n",
              "  }\n",
              "</style>\n",
              "\n",
              "      <script>\n",
              "        async function quickchart(key) {\n",
              "          const quickchartButtonEl =\n",
              "            document.querySelector('#' + key + ' button');\n",
              "          quickchartButtonEl.disabled = true;  // To prevent multiple clicks.\n",
              "          quickchartButtonEl.classList.add('colab-df-spinner');\n",
              "          try {\n",
              "            const charts = await google.colab.kernel.invokeFunction(\n",
              "                'suggestCharts', [key], {});\n",
              "          } catch (error) {\n",
              "            console.error('Error during call to suggestCharts:', error);\n",
              "          }\n",
              "          quickchartButtonEl.classList.remove('colab-df-spinner');\n",
              "          quickchartButtonEl.classList.add('colab-df-quickchart-complete');\n",
              "        }\n",
              "        (() => {\n",
              "          let quickchartButtonEl =\n",
              "            document.querySelector('#df-eccc4bb1-9e71-418c-9c16-854588d9dcd0 button');\n",
              "          quickchartButtonEl.style.display =\n",
              "            google.colab.kernel.accessAllowed ? 'block' : 'none';\n",
              "        })();\n",
              "      </script>\n",
              "    </div>\n",
              "\n",
              "    </div>\n",
              "  </div>\n"
            ],
            "text/plain": [
              "   item_nbr        family  class  perishable\n",
              "0     96995     GROCERY I   1093           0\n",
              "1     99197     GROCERY I   1067           0\n",
              "2    103501      CLEANING   3008           0\n",
              "3    103520     GROCERY I   1028           0\n",
              "4    103665  BREAD/BAKERY   2712           1"
            ]
          },
          "execution_count": 4,
          "metadata": {},
          "output_type": "execute_result"
        }
      ],
      "source": [
        "df_items.head()"
      ]
    },
    {
      "cell_type": "markdown",
      "metadata": {
        "id": "z_onTydvcqcU"
      },
      "source": [
        "# Loading Data Part II - Training Data\n",
        "\n",
        "Now, all of the files were read in well in the previous lecture except for the `train.csv` file, which contains time-series data for each item sold in a store. Previously, we’ve mentioned that the `train.csv`  file is very large. To read in such big files, we typically split it into chunks and read it in chunk by chunk. Below, you’ll see how we do it but before looking at the actual code it is also important to mention that the train.cvs data file we’ll be filtered down even further by:\n",
        "\n",
        "1. selecting only data for “Pichincha” region - the region of our analysis\n",
        "2. selecting only 2 000 000 rows (to make further computations fast for educational sake)\n",
        "\n",
        "So, let’s do all of these steps now: (to keep things clean, we will reuse the functions and variables we already defined in the previous lecture)."
      ]
    },
    {
      "cell_type": "markdown",
      "metadata": {
        "id": "zWt6HbmMdFe1"
      },
      "source": [
        "## 1. Install the gdown Library\n",
        "\n",
        "`gdown` handles large files better than `requests`"
      ]
    },
    {
      "cell_type": "code",
      "execution_count": null,
      "metadata": {
        "colab": {
          "base_uri": "https://localhost:8080/"
        },
        "id": "vgZi7OYOdC9g",
        "outputId": "c283b051-b4db-4df2-8ffc-aea5622ad72b"
      },
      "outputs": [
        {
          "name": "stdout",
          "output_type": "stream",
          "text": [
            "Requirement already satisfied: gdown in /usr/local/lib/python3.11/dist-packages (5.2.0)\n",
            "Requirement already satisfied: beautifulsoup4 in /usr/local/lib/python3.11/dist-packages (from gdown) (4.13.4)\n",
            "Requirement already satisfied: filelock in /usr/local/lib/python3.11/dist-packages (from gdown) (3.18.0)\n",
            "Requirement already satisfied: requests[socks] in /usr/local/lib/python3.11/dist-packages (from gdown) (2.32.3)\n",
            "Requirement already satisfied: tqdm in /usr/local/lib/python3.11/dist-packages (from gdown) (4.67.1)\n",
            "Requirement already satisfied: soupsieve>1.2 in /usr/local/lib/python3.11/dist-packages (from beautifulsoup4->gdown) (2.7)\n",
            "Requirement already satisfied: typing-extensions>=4.0.0 in /usr/local/lib/python3.11/dist-packages (from beautifulsoup4->gdown) (4.14.1)\n",
            "Requirement already satisfied: charset-normalizer<4,>=2 in /usr/local/lib/python3.11/dist-packages (from requests[socks]->gdown) (3.4.2)\n",
            "Requirement already satisfied: idna<4,>=2.5 in /usr/local/lib/python3.11/dist-packages (from requests[socks]->gdown) (3.10)\n",
            "Requirement already satisfied: urllib3<3,>=1.21.1 in /usr/local/lib/python3.11/dist-packages (from requests[socks]->gdown) (2.5.0)\n",
            "Requirement already satisfied: certifi>=2017.4.17 in /usr/local/lib/python3.11/dist-packages (from requests[socks]->gdown) (2025.7.14)\n",
            "Requirement already satisfied: PySocks!=1.5.7,>=1.5.6 in /usr/local/lib/python3.11/dist-packages (from requests[socks]->gdown) (1.7.1)\n"
          ]
        }
      ],
      "source": [
        "!pip install -U gdown"
      ]
    },
    {
      "cell_type": "markdown",
      "metadata": {
        "id": "haYJc2zydP6q"
      },
      "source": [
        "## 2. Download `train.csv`"
      ]
    },
    {
      "cell_type": "code",
      "execution_count": null,
      "metadata": {
        "colab": {
          "base_uri": "https://localhost:8080/",
          "height": 142
        },
        "id": "Kr1of7cmdSiD",
        "outputId": "71c3c053-b172-4a0f-fe1b-d0db6bde08fa"
      },
      "outputs": [
        {
          "name": "stderr",
          "output_type": "stream",
          "text": [
            "Downloading...\n",
            "From (original): https://drive.google.com/uc?id=1oEX8NEJPY7wPmSJ0n7lO1JUFYyZjFBRv\n",
            "From (redirected): https://drive.google.com/uc?id=1oEX8NEJPY7wPmSJ0n7lO1JUFYyZjFBRv&confirm=t&uuid=80793780-41c9-4cac-a90b-c16fe5eb7ff0\n",
            "To: /content/train.csv\n",
            "100%|██████████| 5.00G/5.00G [01:07<00:00, 73.6MB/s]\n"
          ]
        },
        {
          "data": {
            "application/vnd.google.colaboratory.intrinsic+json": {
              "type": "string"
            },
            "text/plain": [
              "'train.csv'"
            ]
          },
          "execution_count": 6,
          "metadata": {},
          "output_type": "execute_result"
        }
      ],
      "source": [
        "import gdown\n",
        "\n",
        "# Use our existing function to build the download URL\n",
        "train_url = make_drive_url(file_ids[\"train\"])\n",
        "\n",
        "# Download the file using gdown\n",
        "gdown.download(train_url, \"train.csv\", quiet=False)"
      ]
    },
    {
      "cell_type": "markdown",
      "metadata": {
        "id": "tCbC6nvqddPm"
      },
      "source": [
        "## 3. Select Stores from Pichincha Region"
      ]
    },
    {
      "cell_type": "code",
      "execution_count": null,
      "metadata": {
        "id": "wWVQeQN5dkwN"
      },
      "outputs": [],
      "source": [
        "store_ids = df_stores[df_stores['state'] == 'Pichincha']['store_nbr'].unique()"
      ]
    },
    {
      "cell_type": "markdown",
      "metadata": {
        "id": "1S5FVU69drXd"
      },
      "source": [
        "## 4. Read the Data in Chunks and Filter by Store\n",
        "\n",
        "read `train.csv` in chunks of 1 million rows and keep only the rows that belong to the selected stores."
      ]
    },
    {
      "cell_type": "code",
      "execution_count": null,
      "metadata": {
        "colab": {
          "base_uri": "https://localhost:8080/"
        },
        "id": "vhJy1FWudu-H",
        "outputId": "04ec9a93-55d5-43df-fc5e-df93cdfb8ed6"
      },
      "outputs": [
        {
          "name": "stderr",
          "output_type": "stream",
          "text": [
            "/tmp/ipython-input-8-2678381120.py:6: DtypeWarning: Columns (5) have mixed types. Specify dtype option on import or set low_memory=False.\n",
            "  for chunk in pd.read_csv(\"train.csv\", chunksize=chunk_size):\n"
          ]
        }
      ],
      "source": [
        "import pandas as pd\n",
        "\n",
        "chunk_size = 10**6  # 1 million rows at a time\n",
        "filtered_chunks = []\n",
        "\n",
        "for chunk in pd.read_csv(\"train.csv\", chunksize=chunk_size):\n",
        "    chunk_filtered = chunk[chunk['store_nbr'].isin(store_ids)]\n",
        "    filtered_chunks.append(chunk_filtered)\n",
        "    del chunk  # Free up memory\n"
      ]
    },
    {
      "cell_type": "markdown",
      "metadata": {
        "id": "z30H9oSAeJjV"
      },
      "source": [
        "## 5. Combine the Chunks\n",
        "combine into a single DataFrame"
      ]
    },
    {
      "cell_type": "code",
      "execution_count": null,
      "metadata": {
        "id": "EcXQaNnkeLap"
      },
      "outputs": [],
      "source": [
        "df_train = pd.concat(filtered_chunks, ignore_index=True)"
      ]
    },
    {
      "cell_type": "markdown",
      "metadata": {
        "id": "H0togBtLeRlv"
      },
      "source": [
        "## 6. Sample Two Million Rows\n",
        "\n",
        "just to keep things fast and simple for learning."
      ]
    },
    {
      "cell_type": "code",
      "execution_count": null,
      "metadata": {
        "id": "xbfcSFv5eahs"
      },
      "outputs": [],
      "source": [
        "df_train = df_train.sample(n=2_000_000).reset_index(drop=True)"
      ]
    },
    {
      "cell_type": "markdown",
      "metadata": {
        "id": "Bf49G6iUeczI"
      },
      "source": [
        "## 7. Clean Up\n",
        "delete the filtered chunks from memory"
      ]
    },
    {
      "cell_type": "code",
      "execution_count": null,
      "metadata": {
        "id": "Atnh2aKVeiax"
      },
      "outputs": [],
      "source": [
        "del filtered_chunks"
      ]
    },
    {
      "cell_type": "markdown",
      "metadata": {
        "id": "fExXgfu2eo6D"
      },
      "source": [
        "## 8. Check Head"
      ]
    },
    {
      "cell_type": "code",
      "execution_count": null,
      "metadata": {
        "id": "gkisodC0eq0Y"
      },
      "outputs": [],
      "source": [
        "df_train.head()"
      ]
    },
    {
      "cell_type": "markdown",
      "metadata": {
        "id": "QE8NgxtIjEiz"
      },
      "source": [
        "# EDA"
      ]
    },
    {
      "cell_type": "markdown",
      "metadata": {
        "id": "iLQHXVScjH1a"
      },
      "source": [
        "## 1. Checking for Missing Data\n"
      ]
    },
    {
      "cell_type": "markdown",
      "metadata": {
        "id": "hp1Olsj6mh2f"
      },
      "source": [
        "### df_train\n",
        "-  358k rows with null `onpromotioon` exist. No other null values exist.\n",
        "- given that this is roughly 18% of the data, dropping the rows will not be a good option.\n",
        "- Question would be whether to drop the column, or impute it.\n",
        "- Based on the remainder of the dataset, almost 93% of the rows have `onpromotion = False`, so it seems better to replace nulls with False."
      ]
    },
    {
      "cell_type": "code",
      "execution_count": null,
      "metadata": {
        "id": "gx2NflkWjHQq"
      },
      "outputs": [],
      "source": [
        "df_train.info()"
      ]
    },
    {
      "cell_type": "code",
      "execution_count": null,
      "metadata": {
        "id": "r-Ui3-wekQrX"
      },
      "outputs": [],
      "source": [
        "df_train.isnull().sum()"
      ]
    },
    {
      "cell_type": "code",
      "execution_count": null,
      "metadata": {
        "id": "HvsqK_3zkvID"
      },
      "outputs": [],
      "source": [
        "null_rows = df_train.isnull().sum().sum()\n",
        "null_proportion = null_rows*100 / len(df_train)\n",
        "null_proportion"
      ]
    },
    {
      "cell_type": "code",
      "execution_count": null,
      "metadata": {
        "id": "YZnucNM1ldK9"
      },
      "outputs": [],
      "source": [
        "df_train['onpromotion'].value_counts(normalize=True)"
      ]
    },
    {
      "cell_type": "code",
      "execution_count": null,
      "metadata": {
        "id": "MKmXHCiNl9NH"
      },
      "outputs": [],
      "source": [
        "df_train['onpromotion'] = df_train['onpromotion'].fillna(False).astype(bool)"
      ]
    },
    {
      "cell_type": "code",
      "execution_count": null,
      "metadata": {
        "id": "SaDx77GzmMpa"
      },
      "outputs": [],
      "source": [
        "df_train.isnull().sum()"
      ]
    },
    {
      "cell_type": "markdown",
      "metadata": {
        "id": "wkJOQq0Hmo5r"
      },
      "source": [
        "### df_items\n",
        "No nulls"
      ]
    },
    {
      "cell_type": "code",
      "execution_count": null,
      "metadata": {
        "id": "2T6ZDYShm0oh"
      },
      "outputs": [],
      "source": [
        "df_items.info()"
      ]
    },
    {
      "cell_type": "markdown",
      "metadata": {
        "id": "rYxtSUb7nT8h"
      },
      "source": [
        "### df_holiday_events\n",
        "No nulls"
      ]
    },
    {
      "cell_type": "code",
      "execution_count": null,
      "metadata": {
        "id": "Ki6-2DY2nWou"
      },
      "outputs": [],
      "source": [
        "df_holiday_events.info()"
      ]
    },
    {
      "cell_type": "markdown",
      "metadata": {
        "id": "9E3uT0F9nhHJ"
      },
      "source": [
        "### df_oil\n",
        "- 43 nulls for the `dcoilwtico` column.\n",
        "- dropping this does not seem to be a good idea since this seems to be a time series too, and each date is unique.\n",
        "- for now, I will try linear interpolation to fill the nulls.\n",
        "- since the very first row has a null value, I will just backward fill it."
      ]
    },
    {
      "cell_type": "code",
      "execution_count": null,
      "metadata": {
        "id": "VzGJXivZnjQc"
      },
      "outputs": [],
      "source": [
        "df_oil.info()"
      ]
    },
    {
      "cell_type": "code",
      "execution_count": null,
      "metadata": {
        "id": "D9fOucaInoCs"
      },
      "outputs": [],
      "source": [
        "df_oil.isnull().sum()"
      ]
    },
    {
      "cell_type": "code",
      "execution_count": null,
      "metadata": {
        "id": "cuyzgyContPj"
      },
      "outputs": [],
      "source": [
        "df_oil['dcoilwtico'].describe()"
      ]
    },
    {
      "cell_type": "code",
      "execution_count": null,
      "metadata": {
        "id": "qkWwkzPgonya"
      },
      "outputs": [],
      "source": [
        "len(df_oil['date'].unique()) == len(df_oil)"
      ]
    },
    {
      "cell_type": "code",
      "execution_count": null,
      "metadata": {
        "id": "RwCTKzGkoUXM"
      },
      "outputs": [],
      "source": [
        "df_oil['dcoilwtico'].hist(alpha=0.9, label='dcoilwtico')\n",
        "\n",
        "plt.xlabel('dcoilwtico')\n",
        "plt.xticks(np.arange(0, 120, step=10))\n",
        "plt.ylabel('frequency')\n",
        "plt.show()"
      ]
    },
    {
      "cell_type": "code",
      "execution_count": null,
      "metadata": {
        "id": "t1C74SkrpbqM"
      },
      "outputs": [],
      "source": [
        "df_oil['dcoilwtico'] = df_oil['dcoilwtico'].interpolate(method='linear')\n",
        "df_oil.isnull().sum()"
      ]
    },
    {
      "cell_type": "code",
      "execution_count": null,
      "metadata": {
        "id": "Gxz6yO8_tvz9"
      },
      "outputs": [],
      "source": [
        "df_oil.loc[df_oil['dcoilwtico'].isnull()]"
      ]
    },
    {
      "cell_type": "code",
      "execution_count": null,
      "metadata": {
        "id": "4AH1heVjuRJA"
      },
      "outputs": [],
      "source": [
        "#backward fill the first row\n",
        "df_oil['dcoilwtico'] = df_oil['dcoilwtico'].bfill()\n",
        "df_oil.isnull().sum()"
      ]
    },
    {
      "cell_type": "code",
      "execution_count": null,
      "metadata": {
        "id": "dDPv5lnIungF"
      },
      "outputs": [],
      "source": [
        "df_oil.iloc[:2, :]"
      ]
    },
    {
      "cell_type": "markdown",
      "metadata": {
        "id": "CXxszwI3uvXM"
      },
      "source": [
        "### df_stores\n",
        "No nulls"
      ]
    },
    {
      "cell_type": "code",
      "execution_count": null,
      "metadata": {
        "id": "LYZqZ5vkuu5y"
      },
      "outputs": [],
      "source": [
        "df_stores.info()"
      ]
    },
    {
      "cell_type": "markdown",
      "metadata": {
        "id": "4DdVbh1tu67r"
      },
      "source": [
        "### df_transactions\n",
        "No nulls"
      ]
    },
    {
      "cell_type": "code",
      "execution_count": null,
      "metadata": {
        "id": "dF6ZzHQku9pa"
      },
      "outputs": [],
      "source": [
        "df_transactions.info()"
      ]
    },
    {
      "cell_type": "markdown",
      "metadata": {
        "id": "yD6_rrrgmSEh"
      },
      "source": [
        "## Handle Outliers"
      ]
    },
    {
      "cell_type": "code",
      "execution_count": null,
      "metadata": {
        "id": "4PHQUdU8mUGs"
      },
      "outputs": [],
      "source": [
        "df_train.describe()"
      ]
    },
    {
      "cell_type": "markdown",
      "metadata": {
        "id": "6PBdJkLTv3K4"
      },
      "source": [
        "### Treat product returns as `no sale`"
      ]
    },
    {
      "cell_type": "code",
      "execution_count": null,
      "metadata": {
        "id": "aCvHVfFvwDEt"
      },
      "outputs": [],
      "source": [
        "#replace all negative unit_sales with 0\n",
        "df_train['unit_sales'] = df_train['unit_sales'].apply(\n",
        "                        lambda x: 0 if x<0 else x)\n",
        "\n",
        "df_train.describe()"
      ]
    },
    {
      "cell_type": "markdown",
      "metadata": {
        "id": "SfBg3H2_xQfV"
      },
      "source": [
        "### Identify extremely high sales for specific stores and items on specific days\n",
        "\n",
        "- any day where sales were **more than 5x the group's own standard deviation** above its average is an outlier.\n",
        "- Z-score of 5 represents roughly top 0.00003 % in a normal distribution\n",
        "- rows with a Z-score > 5 might be promo spikes, data-entry errors, or stock-clearance days."
      ]
    },
    {
      "cell_type": "code",
      "execution_count": null,
      "metadata": {
        "id": "5-sj6Se2zKhA"
      },
      "outputs": [],
      "source": [
        "def calculate_store_item_zscore(group):\n",
        "    # Compute mean and standard deviation for each store-item group\n",
        "    mean_sales = group['unit_sales'].mean()\n",
        "    std_sales = group['unit_sales'].std()\n",
        "\n",
        "    # Calculate Z-score for unit_sales\n",
        "    # (avoiding division by zero for standard deviation),\n",
        "    # and store it in a new column called z_score\n",
        "    group['z_score'] = (group['unit_sales'] - mean_sales) / (std_sales\n",
        "                                                             if std_sales != 0\n",
        "                                                             else 1)\n",
        "    return group"
      ]
    },
    {
      "cell_type": "code",
      "execution_count": null,
      "metadata": {
        "id": "BJQ-J2X7xiX5"
      },
      "outputs": [],
      "source": [
        "# Apply the Z-score calculation to each store-item group, then flatten the index\n",
        "df_train_grouped = df_train.groupby(['store_nbr', 'item_nbr'])\\\n",
        "                            .apply(calculate_store_item_zscore,\n",
        "                                   include_groups=True)\n",
        "df_train_grouped.reset_index(drop=True, inplace=True)\n",
        "\n",
        "# Define threshold for outliers (e.g., Z-score > 5)\n",
        "outliers = df_train_grouped[df_train_grouped['z_score'] > 5]\n",
        "\n",
        "# Print summary\n",
        "print(f\"Number of outliers detected: {len(outliers)}\")\n",
        "outliers.head()"
      ]
    },
    {
      "cell_type": "markdown",
      "metadata": {
        "id": "-dBylSjaatpT"
      },
      "source": [
        "### Things to consider:\n",
        "- were these during promotions i.e. `onpromotion = True`?\n",
        "- Is the data a holiday?\n",
        "- Could it be a data glitch? (e.g., negative sales on the day before followed by a big positive “correction”)\n",
        "\n",
        "--- personal experimentation below ---"
      ]
    },
    {
      "cell_type": "code",
      "execution_count": null,
      "metadata": {
        "id": "6k9MoUm-6sBH"
      },
      "outputs": [],
      "source": [
        "df_holiday_events.loc[(df_holiday_events['transferred']==True)].head()"
      ]
    },
    {
      "cell_type": "code",
      "execution_count": null,
      "metadata": {
        "id": "VONi7XPBaJKl"
      },
      "outputs": [],
      "source": [
        "df_holiday_events.sort_values('date').head()"
      ]
    },
    {
      "cell_type": "code",
      "execution_count": null,
      "metadata": {
        "id": "vQijfC5Jbld-"
      },
      "outputs": [],
      "source": [
        "#merge outliers with holidays\n",
        "\n",
        "outliers_copy = pd.merge(outliers, df_holiday_events, how='left', on='date')\n",
        "\n",
        "outliers_copy.head()"
      ]
    },
    {
      "cell_type": "code",
      "execution_count": null,
      "metadata": {
        "id": "8zvE9Rx8c8bM"
      },
      "outputs": [],
      "source": [
        "not_holiday = len(outliers_copy[outliers_copy['type'].isnull()])\n",
        "on_holiday = len(outliers_copy[~outliers_copy['type'].isnull()])\n",
        "total = len(outliers_copy)\n",
        "\n",
        "print('Total Outliers:', total, ', On Holiday:', on_holiday,\n",
        "      ', Not on Holiday', not_holiday)"
      ]
    },
    {
      "cell_type": "code",
      "execution_count": null,
      "metadata": {
        "id": "SxG9ndMbeIVn"
      },
      "outputs": [],
      "source": [
        "on_promotion = len(outliers_copy[outliers_copy['onpromotion']==True])\n",
        "not_promotion = len(outliers_copy[outliers_copy['onpromotion']==False])\n",
        "total = len(outliers_copy)\n",
        "\n",
        "print('Total Outliers:', total, ', On Promotion:', on_promotion,\n",
        "      ', Not on Promotion', not_promotion)"
      ]
    },
    {
      "cell_type": "code",
      "execution_count": null,
      "metadata": {
        "id": "dQjAgPvfeou8"
      },
      "outputs": [],
      "source": [
        "# check what the union of holidays and promotions are\n",
        "\n",
        "on_promotion_or_holiday = len(outliers_copy[(outliers_copy['onpromotion']==True)\n",
        "                              | (~outliers_copy['type'].isnull()) ])\n",
        "\n",
        "not_promotion_nor_holiday = len(outliers_copy[(outliers_copy['onpromotion']==False)\n",
        "                              & (outliers_copy['type'].isnull()) ])\n",
        "\n",
        "total = len(outliers_copy)\n",
        "\n",
        "print('Total Outliers:', total,\n",
        "      '\\n On Promotion or Holiday:', on_promotion_or_holiday,\n",
        "      '\\n Not on Promotion nor Holiday', not_promotion_nor_holiday,\n",
        "      '\\n % on Promotion nor Holiday', on_promotion_or_holiday*100/total)"
      ]
    },
    {
      "cell_type": "markdown",
      "metadata": {
        "id": "tr42aT77f9kZ"
      },
      "source": [
        "\\~55% of the outliers could be related to either a promotion or a holiday. A significant chunk would still be unexplained (\\~45%)."
      ]
    },
    {
      "cell_type": "markdown",
      "metadata": {
        "id": "b1KVNfA2gY5p"
      },
      "source": [
        "## Fill Missing Dates with Zero Sales\n",
        "- because this is a time series, we expect a **complete calendar**.\n",
        "- we should fill the dates where there are zero sales with explicit zeros so that there are no gaps in our calendar.\n",
        "\n",
        "**Goal**: every product in every store has one row per calendar day.\n",
        "- If nothing sold, `unit_sales` should be `0`"
      ]
    },
    {
      "cell_type": "code",
      "execution_count": null,
      "metadata": {
        "id": "QYl0Oef5jiTp"
      },
      "outputs": [],
      "source": [
        "# Turn the date column into real dates\n",
        "\n",
        "df_train['date'] = pd.to_datetime(df_train['date'])"
      ]
    },
    {
      "cell_type": "code",
      "execution_count": null,
      "metadata": {
        "id": "uBEUnkAhjyfY"
      },
      "outputs": [],
      "source": [
        "# define a function to create a full daily calendar\n",
        "# for every store-item pair\n",
        "# expect df_train.groupby(['store_nbr', 'item_nbr'])\n",
        "\n",
        "def fill_calendar(group):\n",
        "  #\n",
        "  # group contains all rows for ONE (store_nbr, item_nbr) pair\n",
        "  #\n",
        "  g = group.set_index(\"date\").sort_index()   # use date/calendar as the index\n",
        "\n",
        "  g = g.asfreq(\"D\", fill_value=0)\n",
        "  # make it daily; add 0 to all columns where the date is missing\n",
        "\n",
        "\t# put the identifiers back (asfreq drops them)\n",
        "  g[\"store_nbr\"] = group[\"store_nbr\"].iloc[0]\n",
        "  g[\"item_nbr\"] = group[\"item_nbr\"].iloc[0]\n",
        "\n",
        "  return g.reset_index()                     # date back to a normal column\n"
      ]
    },
    {
      "cell_type": "code",
      "execution_count": null,
      "metadata": {
        "colab": {
          "background_save": true
        },
        "id": "BtA34XDtmg8i",
        "outputId": "de6a76ce-180c-4427-9f91-c8177118ac33"
      },
      "outputs": [
        {
          "name": "stderr",
          "output_type": "stream",
          "text": [
            "/tmp/ipython-input-44-2527799502.py:5: DeprecationWarning: DataFrameGroupBy.apply operated on the grouping columns. This behavior is deprecated, and in a future version of pandas the grouping columns will be excluded from the operation. Either pass `include_groups=False` to exclude the groupings or explicitly select the grouping columns after groupby to silence this warning.\n",
            "  .apply(fill_calendar)\n"
          ]
        },
        {
          "data": {
            "application/vnd.google.colaboratory.intrinsic+json": {
              "type": "dataframe",
              "variable_name": "df_train"
            },
            "text/html": [
              "\n",
              "  <div id=\"df-7161c431-0b2f-4590-a95a-d0ab59fccb6f\" class=\"colab-df-container\">\n",
              "    <div>\n",
              "<style scoped>\n",
              "    .dataframe tbody tr th:only-of-type {\n",
              "        vertical-align: middle;\n",
              "    }\n",
              "\n",
              "    .dataframe tbody tr th {\n",
              "        vertical-align: top;\n",
              "    }\n",
              "\n",
              "    .dataframe thead th {\n",
              "        text-align: right;\n",
              "    }\n",
              "</style>\n",
              "<table border=\"1\" class=\"dataframe\">\n",
              "  <thead>\n",
              "    <tr style=\"text-align: right;\">\n",
              "      <th></th>\n",
              "      <th>date</th>\n",
              "      <th>id</th>\n",
              "      <th>store_nbr</th>\n",
              "      <th>item_nbr</th>\n",
              "      <th>unit_sales</th>\n",
              "      <th>onpromotion</th>\n",
              "    </tr>\n",
              "  </thead>\n",
              "  <tbody>\n",
              "    <tr>\n",
              "      <th>0</th>\n",
              "      <td>2013-02-05</td>\n",
              "      <td>1384585</td>\n",
              "      <td>1</td>\n",
              "      <td>96995</td>\n",
              "      <td>1.0</td>\n",
              "      <td>False</td>\n",
              "    </tr>\n",
              "    <tr>\n",
              "      <th>1</th>\n",
              "      <td>2013-02-06</td>\n",
              "      <td>0</td>\n",
              "      <td>1</td>\n",
              "      <td>96995</td>\n",
              "      <td>0.0</td>\n",
              "      <td>0</td>\n",
              "    </tr>\n",
              "    <tr>\n",
              "      <th>2</th>\n",
              "      <td>2013-02-07</td>\n",
              "      <td>0</td>\n",
              "      <td>1</td>\n",
              "      <td>96995</td>\n",
              "      <td>0.0</td>\n",
              "      <td>0</td>\n",
              "    </tr>\n",
              "    <tr>\n",
              "      <th>3</th>\n",
              "      <td>2013-02-08</td>\n",
              "      <td>0</td>\n",
              "      <td>1</td>\n",
              "      <td>96995</td>\n",
              "      <td>0.0</td>\n",
              "      <td>0</td>\n",
              "    </tr>\n",
              "    <tr>\n",
              "      <th>4</th>\n",
              "      <td>2013-02-09</td>\n",
              "      <td>0</td>\n",
              "      <td>1</td>\n",
              "      <td>96995</td>\n",
              "      <td>0.0</td>\n",
              "      <td>0</td>\n",
              "    </tr>\n",
              "  </tbody>\n",
              "</table>\n",
              "</div>\n",
              "    <div class=\"colab-df-buttons\">\n",
              "\n",
              "  <div class=\"colab-df-container\">\n",
              "    <button class=\"colab-df-convert\" onclick=\"convertToInteractive('df-7161c431-0b2f-4590-a95a-d0ab59fccb6f')\"\n",
              "            title=\"Convert this dataframe to an interactive table.\"\n",
              "            style=\"display:none;\">\n",
              "\n",
              "  <svg xmlns=\"http://www.w3.org/2000/svg\" height=\"24px\" viewBox=\"0 -960 960 960\">\n",
              "    <path d=\"M120-120v-720h720v720H120Zm60-500h600v-160H180v160Zm220 220h160v-160H400v160Zm0 220h160v-160H400v160ZM180-400h160v-160H180v160Zm440 0h160v-160H620v160ZM180-180h160v-160H180v160Zm440 0h160v-160H620v160Z\"/>\n",
              "  </svg>\n",
              "    </button>\n",
              "\n",
              "  <style>\n",
              "    .colab-df-container {\n",
              "      display:flex;\n",
              "      gap: 12px;\n",
              "    }\n",
              "\n",
              "    .colab-df-convert {\n",
              "      background-color: #E8F0FE;\n",
              "      border: none;\n",
              "      border-radius: 50%;\n",
              "      cursor: pointer;\n",
              "      display: none;\n",
              "      fill: #1967D2;\n",
              "      height: 32px;\n",
              "      padding: 0 0 0 0;\n",
              "      width: 32px;\n",
              "    }\n",
              "\n",
              "    .colab-df-convert:hover {\n",
              "      background-color: #E2EBFA;\n",
              "      box-shadow: 0px 1px 2px rgba(60, 64, 67, 0.3), 0px 1px 3px 1px rgba(60, 64, 67, 0.15);\n",
              "      fill: #174EA6;\n",
              "    }\n",
              "\n",
              "    .colab-df-buttons div {\n",
              "      margin-bottom: 4px;\n",
              "    }\n",
              "\n",
              "    [theme=dark] .colab-df-convert {\n",
              "      background-color: #3B4455;\n",
              "      fill: #D2E3FC;\n",
              "    }\n",
              "\n",
              "    [theme=dark] .colab-df-convert:hover {\n",
              "      background-color: #434B5C;\n",
              "      box-shadow: 0px 1px 3px 1px rgba(0, 0, 0, 0.15);\n",
              "      filter: drop-shadow(0px 1px 2px rgba(0, 0, 0, 0.3));\n",
              "      fill: #FFFFFF;\n",
              "    }\n",
              "  </style>\n",
              "\n",
              "    <script>\n",
              "      const buttonEl =\n",
              "        document.querySelector('#df-7161c431-0b2f-4590-a95a-d0ab59fccb6f button.colab-df-convert');\n",
              "      buttonEl.style.display =\n",
              "        google.colab.kernel.accessAllowed ? 'block' : 'none';\n",
              "\n",
              "      async function convertToInteractive(key) {\n",
              "        const element = document.querySelector('#df-7161c431-0b2f-4590-a95a-d0ab59fccb6f');\n",
              "        const dataTable =\n",
              "          await google.colab.kernel.invokeFunction('convertToInteractive',\n",
              "                                                    [key], {});\n",
              "        if (!dataTable) return;\n",
              "\n",
              "        const docLinkHtml = 'Like what you see? Visit the ' +\n",
              "          '<a target=\"_blank\" href=https://colab.research.google.com/notebooks/data_table.ipynb>data table notebook</a>'\n",
              "          + ' to learn more about interactive tables.';\n",
              "        element.innerHTML = '';\n",
              "        dataTable['output_type'] = 'display_data';\n",
              "        await google.colab.output.renderOutput(dataTable, element);\n",
              "        const docLink = document.createElement('div');\n",
              "        docLink.innerHTML = docLinkHtml;\n",
              "        element.appendChild(docLink);\n",
              "      }\n",
              "    </script>\n",
              "  </div>\n",
              "\n",
              "\n",
              "    <div id=\"df-10796c44-e77e-4cc9-af14-04180d4f3f95\">\n",
              "      <button class=\"colab-df-quickchart\" onclick=\"quickchart('df-10796c44-e77e-4cc9-af14-04180d4f3f95')\"\n",
              "                title=\"Suggest charts\"\n",
              "                style=\"display:none;\">\n",
              "\n",
              "<svg xmlns=\"http://www.w3.org/2000/svg\" height=\"24px\"viewBox=\"0 0 24 24\"\n",
              "     width=\"24px\">\n",
              "    <g>\n",
              "        <path d=\"M19 3H5c-1.1 0-2 .9-2 2v14c0 1.1.9 2 2 2h14c1.1 0 2-.9 2-2V5c0-1.1-.9-2-2-2zM9 17H7v-7h2v7zm4 0h-2V7h2v10zm4 0h-2v-4h2v4z\"/>\n",
              "    </g>\n",
              "</svg>\n",
              "      </button>\n",
              "\n",
              "<style>\n",
              "  .colab-df-quickchart {\n",
              "      --bg-color: #E8F0FE;\n",
              "      --fill-color: #1967D2;\n",
              "      --hover-bg-color: #E2EBFA;\n",
              "      --hover-fill-color: #174EA6;\n",
              "      --disabled-fill-color: #AAA;\n",
              "      --disabled-bg-color: #DDD;\n",
              "  }\n",
              "\n",
              "  [theme=dark] .colab-df-quickchart {\n",
              "      --bg-color: #3B4455;\n",
              "      --fill-color: #D2E3FC;\n",
              "      --hover-bg-color: #434B5C;\n",
              "      --hover-fill-color: #FFFFFF;\n",
              "      --disabled-bg-color: #3B4455;\n",
              "      --disabled-fill-color: #666;\n",
              "  }\n",
              "\n",
              "  .colab-df-quickchart {\n",
              "    background-color: var(--bg-color);\n",
              "    border: none;\n",
              "    border-radius: 50%;\n",
              "    cursor: pointer;\n",
              "    display: none;\n",
              "    fill: var(--fill-color);\n",
              "    height: 32px;\n",
              "    padding: 0;\n",
              "    width: 32px;\n",
              "  }\n",
              "\n",
              "  .colab-df-quickchart:hover {\n",
              "    background-color: var(--hover-bg-color);\n",
              "    box-shadow: 0 1px 2px rgba(60, 64, 67, 0.3), 0 1px 3px 1px rgba(60, 64, 67, 0.15);\n",
              "    fill: var(--button-hover-fill-color);\n",
              "  }\n",
              "\n",
              "  .colab-df-quickchart-complete:disabled,\n",
              "  .colab-df-quickchart-complete:disabled:hover {\n",
              "    background-color: var(--disabled-bg-color);\n",
              "    fill: var(--disabled-fill-color);\n",
              "    box-shadow: none;\n",
              "  }\n",
              "\n",
              "  .colab-df-spinner {\n",
              "    border: 2px solid var(--fill-color);\n",
              "    border-color: transparent;\n",
              "    border-bottom-color: var(--fill-color);\n",
              "    animation:\n",
              "      spin 1s steps(1) infinite;\n",
              "  }\n",
              "\n",
              "  @keyframes spin {\n",
              "    0% {\n",
              "      border-color: transparent;\n",
              "      border-bottom-color: var(--fill-color);\n",
              "      border-left-color: var(--fill-color);\n",
              "    }\n",
              "    20% {\n",
              "      border-color: transparent;\n",
              "      border-left-color: var(--fill-color);\n",
              "      border-top-color: var(--fill-color);\n",
              "    }\n",
              "    30% {\n",
              "      border-color: transparent;\n",
              "      border-left-color: var(--fill-color);\n",
              "      border-top-color: var(--fill-color);\n",
              "      border-right-color: var(--fill-color);\n",
              "    }\n",
              "    40% {\n",
              "      border-color: transparent;\n",
              "      border-right-color: var(--fill-color);\n",
              "      border-top-color: var(--fill-color);\n",
              "    }\n",
              "    60% {\n",
              "      border-color: transparent;\n",
              "      border-right-color: var(--fill-color);\n",
              "    }\n",
              "    80% {\n",
              "      border-color: transparent;\n",
              "      border-right-color: var(--fill-color);\n",
              "      border-bottom-color: var(--fill-color);\n",
              "    }\n",
              "    90% {\n",
              "      border-color: transparent;\n",
              "      border-bottom-color: var(--fill-color);\n",
              "    }\n",
              "  }\n",
              "</style>\n",
              "\n",
              "      <script>\n",
              "        async function quickchart(key) {\n",
              "          const quickchartButtonEl =\n",
              "            document.querySelector('#' + key + ' button');\n",
              "          quickchartButtonEl.disabled = true;  // To prevent multiple clicks.\n",
              "          quickchartButtonEl.classList.add('colab-df-spinner');\n",
              "          try {\n",
              "            const charts = await google.colab.kernel.invokeFunction(\n",
              "                'suggestCharts', [key], {});\n",
              "          } catch (error) {\n",
              "            console.error('Error during call to suggestCharts:', error);\n",
              "          }\n",
              "          quickchartButtonEl.classList.remove('colab-df-spinner');\n",
              "          quickchartButtonEl.classList.add('colab-df-quickchart-complete');\n",
              "        }\n",
              "        (() => {\n",
              "          let quickchartButtonEl =\n",
              "            document.querySelector('#df-10796c44-e77e-4cc9-af14-04180d4f3f95 button');\n",
              "          quickchartButtonEl.style.display =\n",
              "            google.colab.kernel.accessAllowed ? 'block' : 'none';\n",
              "        })();\n",
              "      </script>\n",
              "    </div>\n",
              "\n",
              "    </div>\n",
              "  </div>\n"
            ],
            "text/plain": [
              "        date       id  store_nbr  item_nbr  unit_sales onpromotion\n",
              "0 2013-02-05  1384585          1     96995         1.0       False\n",
              "1 2013-02-06        0          1     96995         0.0           0\n",
              "2 2013-02-07        0          1     96995         0.0           0\n",
              "3 2013-02-08        0          1     96995         0.0           0\n",
              "4 2013-02-09        0          1     96995         0.0           0"
            ]
          },
          "execution_count": 44,
          "metadata": {},
          "output_type": "execute_result"
        }
      ],
      "source": [
        "# Apply the function to every store-item pair\n",
        "df_train = (\n",
        "    df_train\n",
        "    .groupby([\"store_nbr\", \"item_nbr\"], group_keys=False)  # keeps memory low\n",
        "    .apply(fill_calendar)\n",
        ")\n",
        "\n",
        "df_train.head()"
      ]
    },
    {
      "cell_type": "code",
      "execution_count": null,
      "metadata": {
        "colab": {
          "background_save": true
        },
        "id": "g7tzTdxfxRJq",
        "outputId": "95c105c7-9034-4c91-bc45-10866c42bd67"
      },
      "outputs": [
        {
          "data": {
            "application/vnd.google.colaboratory.intrinsic+json": {
              "type": "dataframe",
              "variable_name": "df_2017"
            },
            "text/html": [
              "\n",
              "  <div id=\"df-bc6edd2e-c30e-4d1d-bf92-7a234dfe2f63\" class=\"colab-df-container\">\n",
              "    <div>\n",
              "<style scoped>\n",
              "    .dataframe tbody tr th:only-of-type {\n",
              "        vertical-align: middle;\n",
              "    }\n",
              "\n",
              "    .dataframe tbody tr th {\n",
              "        vertical-align: top;\n",
              "    }\n",
              "\n",
              "    .dataframe thead th {\n",
              "        text-align: right;\n",
              "    }\n",
              "</style>\n",
              "<table border=\"1\" class=\"dataframe\">\n",
              "  <thead>\n",
              "    <tr style=\"text-align: right;\">\n",
              "      <th></th>\n",
              "      <th>date</th>\n",
              "      <th>id</th>\n",
              "      <th>store_nbr</th>\n",
              "      <th>item_nbr</th>\n",
              "      <th>unit_sales</th>\n",
              "      <th>onpromotion</th>\n",
              "    </tr>\n",
              "  </thead>\n",
              "  <tbody>\n",
              "    <tr>\n",
              "      <th>1426</th>\n",
              "      <td>2017-01-01</td>\n",
              "      <td>0</td>\n",
              "      <td>1</td>\n",
              "      <td>96995</td>\n",
              "      <td>0.0</td>\n",
              "      <td>0</td>\n",
              "    </tr>\n",
              "    <tr>\n",
              "      <th>1427</th>\n",
              "      <td>2017-01-02</td>\n",
              "      <td>0</td>\n",
              "      <td>1</td>\n",
              "      <td>96995</td>\n",
              "      <td>0.0</td>\n",
              "      <td>0</td>\n",
              "    </tr>\n",
              "    <tr>\n",
              "      <th>1428</th>\n",
              "      <td>2017-01-03</td>\n",
              "      <td>0</td>\n",
              "      <td>1</td>\n",
              "      <td>96995</td>\n",
              "      <td>0.0</td>\n",
              "      <td>0</td>\n",
              "    </tr>\n",
              "    <tr>\n",
              "      <th>1429</th>\n",
              "      <td>2017-01-04</td>\n",
              "      <td>0</td>\n",
              "      <td>1</td>\n",
              "      <td>96995</td>\n",
              "      <td>0.0</td>\n",
              "      <td>0</td>\n",
              "    </tr>\n",
              "    <tr>\n",
              "      <th>1430</th>\n",
              "      <td>2017-01-05</td>\n",
              "      <td>0</td>\n",
              "      <td>1</td>\n",
              "      <td>96995</td>\n",
              "      <td>0.0</td>\n",
              "      <td>0</td>\n",
              "    </tr>\n",
              "  </tbody>\n",
              "</table>\n",
              "</div>\n",
              "    <div class=\"colab-df-buttons\">\n",
              "\n",
              "  <div class=\"colab-df-container\">\n",
              "    <button class=\"colab-df-convert\" onclick=\"convertToInteractive('df-bc6edd2e-c30e-4d1d-bf92-7a234dfe2f63')\"\n",
              "            title=\"Convert this dataframe to an interactive table.\"\n",
              "            style=\"display:none;\">\n",
              "\n",
              "  <svg xmlns=\"http://www.w3.org/2000/svg\" height=\"24px\" viewBox=\"0 -960 960 960\">\n",
              "    <path d=\"M120-120v-720h720v720H120Zm60-500h600v-160H180v160Zm220 220h160v-160H400v160Zm0 220h160v-160H400v160ZM180-400h160v-160H180v160Zm440 0h160v-160H620v160ZM180-180h160v-160H180v160Zm440 0h160v-160H620v160Z\"/>\n",
              "  </svg>\n",
              "    </button>\n",
              "\n",
              "  <style>\n",
              "    .colab-df-container {\n",
              "      display:flex;\n",
              "      gap: 12px;\n",
              "    }\n",
              "\n",
              "    .colab-df-convert {\n",
              "      background-color: #E8F0FE;\n",
              "      border: none;\n",
              "      border-radius: 50%;\n",
              "      cursor: pointer;\n",
              "      display: none;\n",
              "      fill: #1967D2;\n",
              "      height: 32px;\n",
              "      padding: 0 0 0 0;\n",
              "      width: 32px;\n",
              "    }\n",
              "\n",
              "    .colab-df-convert:hover {\n",
              "      background-color: #E2EBFA;\n",
              "      box-shadow: 0px 1px 2px rgba(60, 64, 67, 0.3), 0px 1px 3px 1px rgba(60, 64, 67, 0.15);\n",
              "      fill: #174EA6;\n",
              "    }\n",
              "\n",
              "    .colab-df-buttons div {\n",
              "      margin-bottom: 4px;\n",
              "    }\n",
              "\n",
              "    [theme=dark] .colab-df-convert {\n",
              "      background-color: #3B4455;\n",
              "      fill: #D2E3FC;\n",
              "    }\n",
              "\n",
              "    [theme=dark] .colab-df-convert:hover {\n",
              "      background-color: #434B5C;\n",
              "      box-shadow: 0px 1px 3px 1px rgba(0, 0, 0, 0.15);\n",
              "      filter: drop-shadow(0px 1px 2px rgba(0, 0, 0, 0.3));\n",
              "      fill: #FFFFFF;\n",
              "    }\n",
              "  </style>\n",
              "\n",
              "    <script>\n",
              "      const buttonEl =\n",
              "        document.querySelector('#df-bc6edd2e-c30e-4d1d-bf92-7a234dfe2f63 button.colab-df-convert');\n",
              "      buttonEl.style.display =\n",
              "        google.colab.kernel.accessAllowed ? 'block' : 'none';\n",
              "\n",
              "      async function convertToInteractive(key) {\n",
              "        const element = document.querySelector('#df-bc6edd2e-c30e-4d1d-bf92-7a234dfe2f63');\n",
              "        const dataTable =\n",
              "          await google.colab.kernel.invokeFunction('convertToInteractive',\n",
              "                                                    [key], {});\n",
              "        if (!dataTable) return;\n",
              "\n",
              "        const docLinkHtml = 'Like what you see? Visit the ' +\n",
              "          '<a target=\"_blank\" href=https://colab.research.google.com/notebooks/data_table.ipynb>data table notebook</a>'\n",
              "          + ' to learn more about interactive tables.';\n",
              "        element.innerHTML = '';\n",
              "        dataTable['output_type'] = 'display_data';\n",
              "        await google.colab.output.renderOutput(dataTable, element);\n",
              "        const docLink = document.createElement('div');\n",
              "        docLink.innerHTML = docLinkHtml;\n",
              "        element.appendChild(docLink);\n",
              "      }\n",
              "    </script>\n",
              "  </div>\n",
              "\n",
              "\n",
              "    <div id=\"df-2101eaad-7915-4831-8fe2-39866d93482a\">\n",
              "      <button class=\"colab-df-quickchart\" onclick=\"quickchart('df-2101eaad-7915-4831-8fe2-39866d93482a')\"\n",
              "                title=\"Suggest charts\"\n",
              "                style=\"display:none;\">\n",
              "\n",
              "<svg xmlns=\"http://www.w3.org/2000/svg\" height=\"24px\"viewBox=\"0 0 24 24\"\n",
              "     width=\"24px\">\n",
              "    <g>\n",
              "        <path d=\"M19 3H5c-1.1 0-2 .9-2 2v14c0 1.1.9 2 2 2h14c1.1 0 2-.9 2-2V5c0-1.1-.9-2-2-2zM9 17H7v-7h2v7zm4 0h-2V7h2v10zm4 0h-2v-4h2v4z\"/>\n",
              "    </g>\n",
              "</svg>\n",
              "      </button>\n",
              "\n",
              "<style>\n",
              "  .colab-df-quickchart {\n",
              "      --bg-color: #E8F0FE;\n",
              "      --fill-color: #1967D2;\n",
              "      --hover-bg-color: #E2EBFA;\n",
              "      --hover-fill-color: #174EA6;\n",
              "      --disabled-fill-color: #AAA;\n",
              "      --disabled-bg-color: #DDD;\n",
              "  }\n",
              "\n",
              "  [theme=dark] .colab-df-quickchart {\n",
              "      --bg-color: #3B4455;\n",
              "      --fill-color: #D2E3FC;\n",
              "      --hover-bg-color: #434B5C;\n",
              "      --hover-fill-color: #FFFFFF;\n",
              "      --disabled-bg-color: #3B4455;\n",
              "      --disabled-fill-color: #666;\n",
              "  }\n",
              "\n",
              "  .colab-df-quickchart {\n",
              "    background-color: var(--bg-color);\n",
              "    border: none;\n",
              "    border-radius: 50%;\n",
              "    cursor: pointer;\n",
              "    display: none;\n",
              "    fill: var(--fill-color);\n",
              "    height: 32px;\n",
              "    padding: 0;\n",
              "    width: 32px;\n",
              "  }\n",
              "\n",
              "  .colab-df-quickchart:hover {\n",
              "    background-color: var(--hover-bg-color);\n",
              "    box-shadow: 0 1px 2px rgba(60, 64, 67, 0.3), 0 1px 3px 1px rgba(60, 64, 67, 0.15);\n",
              "    fill: var(--button-hover-fill-color);\n",
              "  }\n",
              "\n",
              "  .colab-df-quickchart-complete:disabled,\n",
              "  .colab-df-quickchart-complete:disabled:hover {\n",
              "    background-color: var(--disabled-bg-color);\n",
              "    fill: var(--disabled-fill-color);\n",
              "    box-shadow: none;\n",
              "  }\n",
              "\n",
              "  .colab-df-spinner {\n",
              "    border: 2px solid var(--fill-color);\n",
              "    border-color: transparent;\n",
              "    border-bottom-color: var(--fill-color);\n",
              "    animation:\n",
              "      spin 1s steps(1) infinite;\n",
              "  }\n",
              "\n",
              "  @keyframes spin {\n",
              "    0% {\n",
              "      border-color: transparent;\n",
              "      border-bottom-color: var(--fill-color);\n",
              "      border-left-color: var(--fill-color);\n",
              "    }\n",
              "    20% {\n",
              "      border-color: transparent;\n",
              "      border-left-color: var(--fill-color);\n",
              "      border-top-color: var(--fill-color);\n",
              "    }\n",
              "    30% {\n",
              "      border-color: transparent;\n",
              "      border-left-color: var(--fill-color);\n",
              "      border-top-color: var(--fill-color);\n",
              "      border-right-color: var(--fill-color);\n",
              "    }\n",
              "    40% {\n",
              "      border-color: transparent;\n",
              "      border-right-color: var(--fill-color);\n",
              "      border-top-color: var(--fill-color);\n",
              "    }\n",
              "    60% {\n",
              "      border-color: transparent;\n",
              "      border-right-color: var(--fill-color);\n",
              "    }\n",
              "    80% {\n",
              "      border-color: transparent;\n",
              "      border-right-color: var(--fill-color);\n",
              "      border-bottom-color: var(--fill-color);\n",
              "    }\n",
              "    90% {\n",
              "      border-color: transparent;\n",
              "      border-bottom-color: var(--fill-color);\n",
              "    }\n",
              "  }\n",
              "</style>\n",
              "\n",
              "      <script>\n",
              "        async function quickchart(key) {\n",
              "          const quickchartButtonEl =\n",
              "            document.querySelector('#' + key + ' button');\n",
              "          quickchartButtonEl.disabled = true;  // To prevent multiple clicks.\n",
              "          quickchartButtonEl.classList.add('colab-df-spinner');\n",
              "          try {\n",
              "            const charts = await google.colab.kernel.invokeFunction(\n",
              "                'suggestCharts', [key], {});\n",
              "          } catch (error) {\n",
              "            console.error('Error during call to suggestCharts:', error);\n",
              "          }\n",
              "          quickchartButtonEl.classList.remove('colab-df-spinner');\n",
              "          quickchartButtonEl.classList.add('colab-df-quickchart-complete');\n",
              "        }\n",
              "        (() => {\n",
              "          let quickchartButtonEl =\n",
              "            document.querySelector('#df-2101eaad-7915-4831-8fe2-39866d93482a button');\n",
              "          quickchartButtonEl.style.display =\n",
              "            google.colab.kernel.accessAllowed ? 'block' : 'none';\n",
              "        })();\n",
              "      </script>\n",
              "    </div>\n",
              "\n",
              "    </div>\n",
              "  </div>\n"
            ],
            "text/plain": [
              "           date  id  store_nbr  item_nbr  unit_sales onpromotion\n",
              "1426 2017-01-01   0          1     96995         0.0           0\n",
              "1427 2017-01-02   0          1     96995         0.0           0\n",
              "1428 2017-01-03   0          1     96995         0.0           0\n",
              "1429 2017-01-04   0          1     96995         0.0           0\n",
              "1430 2017-01-05   0          1     96995         0.0           0"
            ]
          },
          "execution_count": 45,
          "metadata": {},
          "output_type": "execute_result"
        }
      ],
      "source": [
        "from datetime import datetime\n",
        "df_2017 = df_train[df_train['date'] >=  datetime.strptime('2017-01-01', '%Y-%m-%d')]\n",
        "df_2017.head()"
      ]
    },
    {
      "cell_type": "markdown",
      "metadata": {
        "id": "ks5vOK8duwxn"
      },
      "source": [
        "Result:\n",
        "- `df_train` has every day for every product in every store. i.e. `df_train` now contains every calendar day for every (store_nbr, item_nbr).\n",
        "\n",
        "- Missing days in the original data are present with unit_sales = 0 meaning nothing was sold.\n",
        "The DataFrame has a fresh 0…N index;"
      ]
    },
    {
      "cell_type": "markdown",
      "metadata": {
        "id": "jhNFkKPOyozt"
      },
      "source": [
        "## Feature Engineering\n",
        "\n",
        "\n"
      ]
    },
    {
      "cell_type": "markdown",
      "metadata": {
        "id": "bWvWYvxw0Zaw"
      },
      "source": [
        "### Turn a date into useful signals\n",
        "\n",
        "| New Feature | Why it helps the model |\n",
        "| ----------- | ---------------------- |\n",
        "| `year` | Captures long-term growth or decline, e.g. sales rise every year |\n",
        "| `month` | Picks up holiday seasons (November - December), back-to-school spikes, etc. |\n",
        "| `day` | Useful for month-end or mid-month payday surges. |\n",
        "| `day_of_week` | Reveals weekend vs. weekday patterns - Friday grocery rush, Sunday lull |\n",
        "\n",
        "Add these to the dataset.\n",
        "\n",
        "With these columns in place, even a simple tree-based model can learn that “sales usually jump in December, dip on Mondays, and peak on the last day of each month.”  That extra context often boosts forecast accuracy without complex algorithms."
      ]
    },
    {
      "cell_type": "code",
      "execution_count": null,
      "metadata": {
        "id": "MDK0AebVzYUA"
      },
      "outputs": [],
      "source": [
        "# Ensure 'date' is a real datetime\n",
        "df_train['date'] = pd.to_datetime(df_train['date'])\n",
        "\n",
        "# Split the timestamp\n",
        "df_train['year'] = df_train['date'].dt.year\n",
        "df_train['month'] = df_train['date'].dt.month\n",
        "df_train['day'] = df_train['date'].dt.day\n",
        "df_train['day_of_week'] = df_train['date'].dt.day_of_week\n",
        "# Monday=0 … Sunday=6\n",
        "\n",
        "df_train.head()"
      ]
    },
    {
      "cell_type": "markdown",
      "metadata": {
        "id": "Ly2njd6Q0l1q"
      },
      "source": [
        "### Rolling / Moving Averages\n",
        "7-day rolling mean for `unit_sales`"
      ]
    },
    {
      "cell_type": "code",
      "execution_count": null,
      "metadata": {
        "id": "SNIHL6aT3sYU"
      },
      "outputs": [],
      "source": [
        "# 7-day rolling average of unit_sales, per (item, store)\n",
        "df_train = df_train.sort_values([\"item_nbr\", \"store_nbr\", \"date\"]).reset_index(drop=True) # make sure rows are in time order\n",
        "\n",
        "df_train[\"unit_sales_7d_avg\"] = (\n",
        "  df_train\n",
        "  .groupby([\"item_nbr\", \"store_nbr\"])[\"unit_sales\"]\n",
        "    # isolate one time-series per (item, store), get the units sold\n",
        "  .transform(lambda s: s.rolling(window=7, min_periods=1).mean())\n",
        "    #  mean of last 7 days, i.e. 7-day moving average, aligned back to original df\n",
        ")"
      ]
    },
    {
      "cell_type": "code",
      "execution_count": null,
      "metadata": {
        "id": "pp2zJdTN5yXl"
      },
      "outputs": [],
      "source": [
        "# Lets see how the new column unit_sales_7d_avg looks like.\n",
        "#For that, we'll need to select a store and item.\n",
        "# Get store and item from the first row\n",
        "store_id = df_train.iloc[0]['store_nbr']\n",
        "item_id = df_train.iloc[0]['item_nbr']\n",
        "\n",
        "# Can also explore other store-item pairs\n",
        "random_row = df_train.sample(1).iloc[0]\n",
        "store_id = random_row['store_nbr']\n",
        "item_id = random_row['item_nbr']\n",
        "\n",
        "# Filter the DataFrame for this store-item pair\n",
        "sample = df_train[(df_train['store_nbr'] == store_id) & (df_train['item_nbr'] == item_id)]\n",
        "sample.head()"
      ]
    },
    {
      "cell_type": "markdown",
      "metadata": {
        "id": "Jviij5vHUwX8"
      },
      "source": [
        "## Visualizing Time Series Data"
      ]
    },
    {
      "cell_type": "markdown",
      "metadata": {
        "id": "fAtW9rvyU6YN"
      },
      "source": [
        "### a) Sales Over Time (Aggregated)\n",
        "\n",
        "- high level view of how sales changed over time.\n",
        "- overall sales trend for all stores and items\n",
        "  - group data by date to get one row per day\n",
        "  - sum up `unit_sales` on each day across all stores and products"
      ]
    },
    {
      "cell_type": "code",
      "execution_count": null,
      "metadata": {
        "id": "KoTqqL0nU0fN"
      },
      "outputs": [],
      "source": [
        "import matplotlib.pyplot as plt\n",
        "\n",
        "\n",
        "sales_by_date = df_train.groupby('date')['unit_sales'].sum()\n",
        "\n",
        "# Plotting the time-series\n",
        "plt.figure(figsize=(12,6))\n",
        "plt.plot(sales_by_date.index, sales_by_date.values)\n",
        "plt.title('Total Unit Sales Over Time in Pichincha state', fontsize=20, fontweight='bold')\n",
        "plt.xlabel('Date', fontsize=16)\n",
        "plt.ylabel('Unit Sales', fontsize=16)\n",
        "plt.xticks(fontsize=14, rotation=45)\n",
        "plt.yticks(fontsize=14)\n",
        "plt.show()"
      ]
    },
    {
      "cell_type": "markdown",
      "metadata": {
        "id": "aBtpyCANWPEw"
      },
      "source": [
        "### b) Sales Trend by Year and Month\n",
        "- find seasonality / seasonal patterns\n",
        "- aggregate by year and month"
      ]
    },
    {
      "cell_type": "code",
      "execution_count": null,
      "metadata": {
        "id": "vVPzrEgAWbfy"
      },
      "outputs": [],
      "source": [
        "# unstack reshapes the results so that:\n",
        "# - each row is a year\n",
        "# - each column is a month (1-12)\n",
        "# - the values are the total sales\n",
        "sales_by_month = (\n",
        "    df_train.groupby(['year', 'month'])['unit_sales'].sum().unstack()\n",
        ")"
      ]
    },
    {
      "cell_type": "code",
      "execution_count": null,
      "metadata": {
        "id": "x8py234ZXPg5"
      },
      "outputs": [],
      "source": [
        "# create a heatmap\n",
        "\n",
        "import seaborn as sns\n",
        "\n",
        "plt.figure(figsize=(8,5))\n",
        "\n",
        "sns.heatmap(\n",
        "    sales_by_month,\n",
        "    cmap='coolwarm',  # Use a diverging colormap for better contrast\n",
        "    linewidths=0.5,  # Add lines between cells for clarity\n",
        "    linecolor='white',  # Use white lines for a cleaner look\n",
        "    cbar_kws={'label': 'Sales Volume'}  # Add a descriptive colorbar label\n",
        ")\n",
        "\n",
        "# Customizing title and axes labels\n",
        "plt.title('Monthly Sales Trends Over Years', fontsize=22, fontweight='bold')\n",
        "plt.xlabel('Month', fontsize=18, labelpad=10)  # Labelpad adds spacing\n",
        "plt.ylabel('Year', fontsize=18, labelpad=10)\n",
        "\n",
        "# Formatting tick labels\n",
        "plt.xticks(fontsize=14, rotation=45)  # Rotate x-axis labels for better readability\n",
        "plt.yticks(fontsize=14)\n",
        "\n",
        "# Adjust layout for better spacing\n",
        "plt.tight_layout()\n",
        "\n",
        "# Display the heatmap\n",
        "plt.show()"
      ]
    },
    {
      "cell_type": "markdown",
      "metadata": {
        "id": "B4GIwwOpZJI3"
      },
      "source": [
        "## Examining the Impact of Holidays\n",
        "\n",
        "- Holidays have a big impact in retail\n",
        "- link daily_sales from `df_train` with the holidays in `df_holiday_events`\n",
        "- see how much `unit_sales` change when a day is flagged as a holiday"
      ]
    },
    {
      "cell_type": "code",
      "execution_count": null,
      "metadata": {
        "id": "FEuIBm3sZldR"
      },
      "outputs": [],
      "source": [
        "df_holiday_events.head()"
      ]
    },
    {
      "cell_type": "code",
      "execution_count": null,
      "metadata": {
        "id": "Ypyx0fFFbYLw"
      },
      "outputs": [],
      "source": [
        "df_holiday_events['type'].unique()"
      ]
    },
    {
      "cell_type": "code",
      "execution_count": null,
      "metadata": {
        "id": "XoNxyg5rZ7V4"
      },
      "outputs": [],
      "source": [
        "# cover `date` column to a real datetime and check range\n",
        "df_holiday_events['date'] = pd.to_datetime(df_holiday_events['date'])\n",
        "\n",
        "print(\n",
        "    'Holiday file covers:',\n",
        "    df_holiday_events['date'].dt.date.min(),\n",
        "    df_holiday_events['date'].dt.date.max()\n",
        ")"
      ]
    },
    {
      "cell_type": "code",
      "execution_count": null,
      "metadata": {
        "id": "yVwQS1Bqaqhi"
      },
      "outputs": [],
      "source": [
        "# join holidays into sales table\n",
        "df_train_holiday = pd.merge(\n",
        "    df_train,                     # daily sales\n",
        "    df_holiday_events[['date', 'type']],  # keep only what we need\n",
        "    on='date',\n",
        "    how='left'                    # non-holiday days get NaN in 'type'\n",
        ")\n",
        "df_train_holiday.head()"
      ]
    },
    {
      "cell_type": "markdown",
      "metadata": {
        "id": "KxmPTF2ybMG_"
      },
      "source": [
        "### Compare average sales for each holiday type\n",
        "\"On an average dayy, how many units sell when it's a Holiday vs. a normal Work Day\"?\n",
        "\n",
        "- group by `type`\n",
        "- take mean of `unit_sales`\n",
        "- plot in a bar chart"
      ]
    },
    {
      "cell_type": "code",
      "execution_count": null,
      "metadata": {
        "id": "kRU8XwSnblu3"
      },
      "outputs": [],
      "source": [
        "holiday_sales = df_train_holiday.groupby('type')['unit_sales'].mean()\n",
        "\n",
        "holiday_sales.plot(\n",
        "    kind='bar',\n",
        "    figsize=(8,5),\n",
        "    color='lightgreen',\n",
        "    edgecolor = 'black'\n",
        ")\n",
        "\n",
        "plt.title('Average Unit Sales by Day Type', fontsize=18, weight='bold')\n",
        "plt.ylabel('Average units sold')\n",
        "plt.xticks(rotation=0)\n",
        "plt.show()"
      ]
    },
    {
      "cell_type": "markdown",
      "metadata": {
        "id": "3TAo3w77dnbX"
      },
      "source": [
        "## Analyzing Perishable Items\n",
        "\n",
        "- perishable items are goods with a limited shelf life or spoil quickly.\n",
        "- forecasting demand for perishables is **business critical**\n",
        "  - over-order, we take a loss from expired items\n",
        "  - under-order, miss sales and disappoint customers\n",
        "\n",
        "1. add the `perishable` flag from `df_items` to `df_train`\n",
        "2. set the `perishable` column to type `boolean`\n",
        "3. compare total sales for perishable vs. non-perishable"
      ]
    },
    {
      "cell_type": "code",
      "execution_count": null,
      "metadata": {
        "id": "V72R0GUyeHAP"
      },
      "outputs": [],
      "source": [
        "df_items.head()"
      ]
    },
    {
      "cell_type": "code",
      "execution_count": null,
      "metadata": {
        "id": "7MQtE-lcea2X"
      },
      "outputs": [],
      "source": [
        "# join the tables\n",
        "# set perishable to boolean\n",
        "df_train_items = pd.merge (\n",
        "    df_train,\n",
        "    df_items,\n",
        "    on='item_nbr',\n",
        "    how='left'\n",
        ")\n",
        "\n",
        "df_train_items['perishable'] = df_train_items['perishable'].astype(bool)\n",
        "df_train_items.head()"
      ]
    },
    {
      "cell_type": "code",
      "execution_count": null,
      "metadata": {
        "id": "6wfKhAJlfGLL"
      },
      "outputs": [],
      "source": [
        "# group sales by perishable\n",
        "perishable_sales = df_train_items.groupby('perishable')['unit_sales'].sum()\n",
        "\n",
        "# plot bar chart\n",
        "perishable_sales.plot(\n",
        "    kind='bar',\n",
        "    figsize=(12, 6),\n",
        "    color=['orange', 'green'],\n",
        "    edgecolor='black'\n",
        ")\n",
        "plt.title('Sales of Perishable vs Non-Perishable Items', fontsize=16)\n",
        "plt.ylabel('Total Unit Sales', fontsize=16)\n",
        "plt.xlabel('')\n",
        "plt.xticks(\n",
        "    ticks=[0, 1],\n",
        "    labels=['Non-Perishable', 'Perishable'],\n",
        "    fontsize=16,\n",
        "    rotation=0  # Keep x-axis labels horizontal\n",
        ")\n",
        "plt.yticks(fontsize=14)\n",
        "plt.show()"
      ]
    },
    {
      "cell_type": "markdown",
      "metadata": {
        "id": "Ww_SYuNth5h0"
      },
      "source": [
        "## Analyzing the Impact of Oil Prices\n",
        "\n",
        "Exercise: Do oil prices move with our sales?\n",
        "\n",
        "Objective: investigate whether daily crude-oil prices have any visible relationship with daily unit sales\n",
        "\n",
        "Given:\n",
        "- `df_train` - cleained daily sailes (`date`, `unit_sales`, etc.)\n",
        "- `df_oil` - daily WTI oil prices (`date`, `dcoilwtico`)\n",
        "\n",
        "Expected Output:\n",
        "1. plot that lets you see both time series together\n",
        "2. short note: any obvious relationship?"
      ]
    },
    {
      "cell_type": "markdown",
      "metadata": {
        "id": "XjR0HsdxoqUP"
      },
      "source": [
        "Impressions:\n",
        "- The oil prices in 2013 were relatively high, correlating with the lower overall sales.\n",
        "- the oil pricesdropped in the latter part of 2014, wwhich coincided with a spike in purchasing.\n",
        "- lower oil prices seem to show higher sales."
      ]
    },
    {
      "cell_type": "code",
      "execution_count": null,
      "metadata": {
        "id": "PdvEBFIvpxip"
      },
      "outputs": [],
      "source": [
        "# Make sure the date column is a real datetime\n",
        "df_oil['date'] = pd.to_datetime(df_oil['date'])\n",
        "\n",
        "daily_sales = df_train.groupby('date')['unit_sales'].sum()\n",
        "\n",
        "# Merging df_train with oil data on date\n",
        "df_train_oil = pd.merge(daily_sales, df_oil, on='date', how='left')\n",
        "\n",
        "# Plotting oil price vs unit sales\n",
        "fig, ax1 = plt.subplots(figsize=(10,6))\n",
        "\n",
        "ax1.set_xlabel('Date')\n",
        "ax1.set_ylabel('Oil Price', color='tab:blue')\n",
        "ax1.plot(df_train_oil['date'], df_train_oil['dcoilwtico'], color='tab:blue', label='Oil Price')\n",
        "ax2 = ax1.twinx()\n",
        "ax2.set_ylabel('Unit Sales', color='tab:green')\n",
        "ax2.plot(df_train_oil['date'], df_train_oil['unit_sales'], color='tab:green', label='Unit Sales')\n",
        "\n",
        "plt.title('Oil Price vs Unit Sales Over Time', fontsize=16)\n",
        "plt.show()"
      ]
    },
    {
      "cell_type": "markdown",
      "metadata": {
        "id": "6tL1StNtBavD"
      },
      "source": [
        "## Autocorrelation"
      ]
    },
    {
      "cell_type": "code",
      "execution_count": null,
      "metadata": {
        "id": "FHsdlAQkBiAP"
      },
      "outputs": [],
      "source": [
        "from pandas.plotting import autocorrelation_plot\n",
        "\n",
        "# Aggregate total sales per day\n",
        "sales_by_date = df_train.groupby('date')['unit_sales'].sum()\n",
        "\n",
        "# Plot autocorrelation\n",
        "plt.figure(figsize=(10, 5))\n",
        "autocorrelation_plot(sales_by_date)\n",
        "plt.title('Autocorrelation of Daily Unit Sales', fontsize=16)\n",
        "plt.show()\n"
      ]
    },
    {
      "cell_type": "markdown",
      "metadata": {
        "id": "BKP4eN49DI-E"
      },
      "source": [
        "## Stationarity"
      ]
    },
    {
      "cell_type": "code",
      "execution_count": null,
      "metadata": {
        "id": "MGEO90i2DIvd"
      },
      "outputs": [],
      "source": [
        "sales_by_date.plot(figsize=(12,5), title='Total Sales Over Time')\n",
        "plt.ylabel('Unit Sales')\n",
        "plt.show()\n"
      ]
    },
    {
      "cell_type": "code",
      "execution_count": null,
      "metadata": {
        "id": "y8p9GtMEEukR"
      },
      "outputs": [],
      "source": [
        "rolling_mean = sales_by_date.rolling(window=12).mean()\n",
        "rolling_std = sales_by_date.rolling(window=12).std()\n",
        "\n",
        "plt.figure(figsize=(12,5))\n",
        "plt.plot(sales_by_date, label='Original')\n",
        "plt.plot(rolling_mean, label='Rolling Mean', color='red')\n",
        "plt.plot(rolling_std, label='Rolling Std', color='green')\n",
        "plt.title('Rolling Mean & Standard Deviation')\n",
        "plt.legend()\n",
        "plt.show()"
      ]
    },
    {
      "cell_type": "markdown",
      "source": [
        "### ADF"
      ],
      "metadata": {
        "id": "lz2p8IlfF21H"
      }
    },
    {
      "cell_type": "code",
      "source": [
        "from statsmodels.tsa.stattools import adfuller\n",
        "\n",
        "result = adfuller(sales_by_date)\n",
        "print(\"ADF Statistic:\", result[0])\n",
        "print(\"p-value:\", result[1])"
      ],
      "metadata": {
        "id": "28qwD7YPGL0Q"
      },
      "execution_count": null,
      "outputs": []
    },
    {
      "cell_type": "markdown",
      "source": [
        "### Diagnosing Trend and Seasonality\n"
      ],
      "metadata": {
        "id": "xJRacMckGmVY"
      }
    },
    {
      "cell_type": "code",
      "source": [
        "# STL decomposition\n",
        "stl = STL(sales_by_date, period=7)  # again, adjust period based on your seasonality\n",
        "res = stl.fit()\n",
        "\n",
        "# Plot STL decomposition\n",
        "res.plot()\n",
        "plt.suptitle(\"STL Decomposition\", fontsize=16)\n",
        "plt.tight_layout()\n",
        "plt.show()"
      ],
      "metadata": {
        "id": "B9SxUk5dHk-k"
      },
      "execution_count": null,
      "outputs": []
    },
    {
      "cell_type": "code",
      "source": [
        "# Calculate strength of trend and seasonality\n",
        "# Based on Hyndman’s definition: Strength = 1 - (variance of remainder / variance of (component + remainder))\n",
        "\n",
        "import numpy as np\n",
        "\n",
        "trend_strength = 1 - (np.var(res.resid) / np.var(res.trend + res.resid))\n",
        "seasonal_strength = 1 - (np.var(res.resid) / np.var(res.seasonal + res.resid))\n",
        "\n",
        "print(f\"Strength of Trend: {trend_strength:.2f}\")\n",
        "print(f\"Strength of Seasonality: {seasonal_strength:.2f}\")"
      ],
      "metadata": {
        "id": "h2dX7WMdIOoj"
      },
      "execution_count": null,
      "outputs": []
    }
  ],
  "metadata": {
    "accelerator": "GPU",
    "colab": {
      "gpuType": "T4",
      "toc_visible": true,
      "provenance": [],
      "authorship_tag": "ABX9TyNEv5tDE9pAIHpXa0lcc6mB",
      "include_colab_link": true
    },
    "kernelspec": {
      "display_name": "Python 3",
      "name": "python3"
    },
    "language_info": {
      "name": "python"
    }
  },
  "nbformat": 4,
  "nbformat_minor": 0
}